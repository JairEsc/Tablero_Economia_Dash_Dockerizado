{
 "cells": [
  {
   "cell_type": "code",
   "execution_count": 2,
   "metadata": {},
   "outputs": [],
   "source": [
    "import rasterio\n",
    "from rasterio.enums import Resampling\n",
    "\n",
    "with rasterio.open('./assets/ Agencias de cobranza y comunicaciones.tiff') as src:\n",
    "    data = src.read(\n",
    "        out_shape=(src.count, src.height, src.width),\n",
    "        resampling=Resampling.nearest\n",
    "    )\n",
    "\n",
    "    transform = src.transform\n",
    "\n"
   ]
  },
  {
   "cell_type": "code",
   "execution_count": 3,
   "metadata": {},
   "outputs": [
    {
     "name": "stdout",
     "output_type": "stream",
     "text": [
      "UniqueCountsResult(values=array([-3.4000000e+38, -1.6978835e-17, -1.5939896e-17, ...,\n",
      "        4.4115344e-01,  4.4195697e-01,  4.4242752e-01],\n",
      "      shape=(497227,), dtype=float32), counts=array([458315,      1,      1, ...,      1,      1,      1],\n",
      "      shape=(497227,)))\n"
     ]
    },
    {
     "data": {
      "image/png": "[encoded data removed]",
      "text/plain": [
       "<Figure size 640x480 with 1 Axes>"
      ]
     },
     "metadata": {},
     "output_type": "display_data"
    }
   ],
   "source": [
    "import matplotlib.pyplot as plt\n",
    "import numpy as np\n",
    "print(np.unique_counts(data))\n",
    "plt.hist(data.flatten(), bins=50)\n",
    "plt.title('Histogram of Data Values')\n",
    "plt.xlabel('Value')\n",
    "plt.ylabel('Frequency')\n",
    "plt.show()"
   ]
  },
  {
   "cell_type": "code",
   "execution_count": 4,
   "metadata": {},
   "outputs": [
    {
     "name": "stderr",
     "output_type": "stream",
     "text": [
      "C:\\Users\\Inabisa\\AppData\\Local\\Temp\\ipykernel_14548\\33825862.py:2: RuntimeWarning: overflow encountered in multiply\n",
      "  data=data*100\n",
      "C:\\Users\\Inabisa\\AppData\\Local\\Temp\\ipykernel_14548\\33825862.py:3: RuntimeWarning: invalid value encountered in cast\n",
      "  data = data.astype(np.uint16)\n"
     ]
    }
   ],
   "source": [
    "import numpy as np\n",
    "data=data*100\n",
    "data = data.astype(np.uint16)"
   ]
  },
  {
   "cell_type": "code",
   "execution_count": 5,
   "metadata": {},
   "outputs": [],
   "source": [
    "import matplotlib.pyplot as plt\n",
    "import matplotlib.colors as mcolors\n",
    "\n",
    "# Normalize the data to the range [0, 1]\n",
    "norm = mcolors.Normalize(vmin=data.min(), vmax=data.max())\n",
    "\n",
    "# Apply the viridis colormap\n",
    "colormap = plt.cm.viridis\n",
    "mapped_data = colormap(norm(data[0]))\n",
    "\n",
    "# Save the image\n"
   ]
  },
  {
   "cell_type": "code",
   "execution_count": 9,
   "metadata": {},
   "outputs": [],
   "source": [
    "mapped_data[:,:,3] =(data>np.min(data)).astype(np.uint8)*1"
   ]
  },
  {
   "cell_type": "code",
   "execution_count": null,
   "metadata": {},
   "outputs": [],
   "source": []
  },
  {
   "cell_type": "code",
   "execution_count": 10,
   "metadata": {},
   "outputs": [],
   "source": [
    "plt.imsave('output_file2.png', mapped_data)"
   ]
  },
  {
   "cell_type": "code",
   "execution_count": 7,
   "metadata": {},
   "outputs": [
    {
     "data": {
      "text/plain": [
       "28.57142857142857"
      ]
     },
     "execution_count": 7,
     "metadata": {},
     "output_type": "execute_result"
    }
   ],
   "source": [
    "24/84 *100"
   ]
  }
 ],
 "metadata": {
  "kernelspec": {
   "display_name": "Python 3",
   "language": "python",
   "name": "python3"
  },
  "language_info": {
   "codemirror_mode": {
    "name": "ipython",
    "version": 3
   },
   "file_extension": ".py",
   "mimetype": "text/x-python",
   "name": "python",
   "nbconvert_exporter": "python",
   "pygments_lexer": "ipython3",
   "version": "3.13.2"
  }
 },
 "nbformat": 4,
 "nbformat_minor": 2
}
